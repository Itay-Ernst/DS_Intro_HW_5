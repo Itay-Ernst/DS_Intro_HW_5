{
 "cells": [
  {
   "cell_type": "code",
   "execution_count": 91,
   "id": "826863ae",
   "metadata": {},
   "outputs": [],
   "source": [
    "import pandas as pd\n",
    "import numpy as np\n",
    "from bs4 import BeautifulSoup as bf\n",
    "import requests\n",
    "import json"
   ]
  },
  {
   "cell_type": "code",
   "execution_count": 55,
   "id": "e8bf6f86",
   "metadata": {},
   "outputs": [],
   "source": [
    "path=r\"C:\\Users\\iernst\\OneDrive - Intel Corporation\\Documents\\university\\third year\\semester B\\intro Knowledge & Data\"\n",
    "fileName=\"\\destinations_LP_crawler_Ex5.csv\"\n",
    "data=pd.read_csv(path+fileName,encoding='ISO-8859-1')"
   ]
  },
  {
   "cell_type": "code",
   "execution_count": 56,
   "id": "12477dc4",
   "metadata": {
    "scrolled": true
   },
   "outputs": [],
   "source": [
    "address=data[\"city\"]"
   ]
  },
  {
   "cell_type": "code",
   "execution_count": 61,
   "id": "b648b22f",
   "metadata": {},
   "outputs": [
    {
     "data": {
      "text/html": [
       "<div>\n",
       "<style scoped>\n",
       "    .dataframe tbody tr th:only-of-type {\n",
       "        vertical-align: middle;\n",
       "    }\n",
       "\n",
       "    .dataframe tbody tr th {\n",
       "        vertical-align: top;\n",
       "    }\n",
       "\n",
       "    .dataframe thead th {\n",
       "        text-align: right;\n",
       "    }\n",
       "</style>\n",
       "<table border=\"1\" class=\"dataframe\">\n",
       "  <thead>\n",
       "    <tr style=\"text-align: right;\">\n",
       "      <th></th>\n",
       "      <th>city</th>\n",
       "      <th>city_LP</th>\n",
       "    </tr>\n",
       "  </thead>\n",
       "  <tbody>\n",
       "    <tr>\n",
       "      <th>0</th>\n",
       "      <td>Antalya</td>\n",
       "      <td>mediterranean-coast/antalya</td>\n",
       "    </tr>\n",
       "    <tr>\n",
       "      <th>1</th>\n",
       "      <td>Athens</td>\n",
       "      <td>Athens</td>\n",
       "    </tr>\n",
       "    <tr>\n",
       "      <th>2</th>\n",
       "      <td>Ayia-napa</td>\n",
       "      <td>the-republic-of-cyprus/Agia-napa</td>\n",
       "    </tr>\n",
       "    <tr>\n",
       "      <th>3</th>\n",
       "      <td>Bangkok</td>\n",
       "      <td>Bangkok</td>\n",
       "    </tr>\n",
       "    <tr>\n",
       "      <th>4</th>\n",
       "      <td>Barcelona</td>\n",
       "      <td>Barcelona</td>\n",
       "    </tr>\n",
       "    <tr>\n",
       "      <th>...</th>\n",
       "      <td>...</td>\n",
       "      <td>...</td>\n",
       "    </tr>\n",
       "    <tr>\n",
       "      <th>71</th>\n",
       "      <td>Venice</td>\n",
       "      <td>Venice</td>\n",
       "    </tr>\n",
       "    <tr>\n",
       "      <th>72</th>\n",
       "      <td>Vienna</td>\n",
       "      <td>Vienna</td>\n",
       "    </tr>\n",
       "    <tr>\n",
       "      <th>73</th>\n",
       "      <td>Warsaw</td>\n",
       "      <td>Warsaw</td>\n",
       "    </tr>\n",
       "    <tr>\n",
       "      <th>74</th>\n",
       "      <td>Zakynthos</td>\n",
       "      <td>Zakynthos</td>\n",
       "    </tr>\n",
       "    <tr>\n",
       "      <th>75</th>\n",
       "      <td>Zurich</td>\n",
       "      <td>Zurich</td>\n",
       "    </tr>\n",
       "  </tbody>\n",
       "</table>\n",
       "<p>76 rows × 2 columns</p>\n",
       "</div>"
      ],
      "text/plain": [
       "         city                           city_LP\n",
       "0     Antalya       mediterranean-coast/antalya\n",
       "1      Athens                            Athens\n",
       "2   Ayia-napa  the-republic-of-cyprus/Agia-napa\n",
       "3     Bangkok                           Bangkok\n",
       "4   Barcelona                         Barcelona\n",
       "..        ...                               ...\n",
       "71     Venice                            Venice\n",
       "72     Vienna                            Vienna\n",
       "73     Warsaw                            Warsaw\n",
       "74  Zakynthos                         Zakynthos\n",
       "75     Zurich                            Zurich\n",
       "\n",
       "[76 rows x 2 columns]"
      ]
     },
     "execution_count": 61,
     "metadata": {},
     "output_type": "execute_result"
    }
   ],
   "source": [
    "data"
   ]
  },
  {
   "cell_type": "code",
   "execution_count": 57,
   "id": "e707389e",
   "metadata": {},
   "outputs": [],
   "source": [
    "def get_country_name (city) :\n",
    "    address=city\n",
    "    api=\"AIza\"\n",
    "    url=\"https://maps.googleapis.com/maps/api/geocode/json?address=%s&key=%s\" % (address,api)\n",
    "    try:\n",
    "        response= requests.get(url)\n",
    "        if not response.status_code==200:\n",
    "            (\"HTTP erorr\", response.status_code)\n",
    "        else:\n",
    "            try:\n",
    "                temp=response.json()\n",
    "                length = len(temp[\"results\"][0]['address_components'])-1\n",
    "                country=temp[\"results\"][0]['address_components'][length][\"long_name\"]\n",
    "                #shit = int(country.split()[0])\n",
    "                #country = temp[\"results\"][0]['address_components'][leng-1]['long_name']\n",
    "                print(country)\n",
    "                return country\n",
    "            except:\n",
    "                print(\"response not in valid json format\")\n",
    "    except:\n",
    "        print(\"something went wrong with requests.get(url)\")\n",
    "    return"
   ]
  },
  {
   "cell_type": "code",
   "execution_count": 144,
   "id": "43945fc9",
   "metadata": {},
   "outputs": [],
   "source": [
    "def get_description(country,lp):\n",
    "    \n",
    "    url_Description=\"https://www.lonelyplanet.com/\"\n",
    "    try:\n",
    "        html=requests.get(url_Description+country+\"/\"+lp)\n",
    "        if not html.status_code==200:\n",
    "            (\"HTTP erorr\", response.status_code)\n",
    "        else:\n",
    "            try:\n",
    "                soup=bf(html.content,\"html.parser\")\n",
    "                i=soup.find(\"div\",class_=\"readMore_content___5EuR relative overflow-hidden max-h-96 is-max wysiwyg\")\n",
    "                y=i.get_text()\n",
    "                return y\n",
    "            except:\n",
    "                print(\"response not in valid json format\")\n",
    "    except:\n",
    "        print(\"something went wrong with requests.get(url)\")\n",
    "    return    "
   ]
  },
  {
   "cell_type": "code",
   "execution_count": 155,
   "id": "b3eb5129",
   "metadata": {},
   "outputs": [
    {
     "name": "stdout",
     "output_type": "stream",
     "text": [
      "Turkey\n",
      "Greece\n",
      "Cyprus\n",
      "Thailand\n",
      "Spain\n",
      "Switzerland\n",
      "Georgia\n",
      "China\n",
      "Germany\n",
      "United States\n",
      "something went wrong with requests.get(url)\n",
      "Slovakia\n",
      "Belgium\n",
      "Romania\n",
      "Hungary\n",
      "Bulgaria\n",
      "Mexico\n",
      "Italy\n",
      "Thailand\n",
      "Germany\n",
      "Greece\n",
      "Spain\n",
      "Greece\n",
      "response not in valid json format\n",
      "something went wrong with requests.get(url)\n",
      "India\n",
      "Germany\n",
      "Ireland\n",
      "Croatia\n",
      "Germany\n",
      "Italy\n",
      "Germany\n",
      "Switzerland\n",
      "China\n",
      "Germany\n",
      "Austria\n",
      "Turkey\n",
      "Greece\n",
      "Thailand\n",
      "02000\n",
      "something went wrong with requests.get(url)\n",
      "Cyprus\n",
      "United States\n",
      "something went wrong with requests.get(url)\n",
      "Cyprus\n",
      "Portugal\n",
      "Slovenia\n",
      "United States\n",
      "something went wrong with requests.get(url)\n",
      "Spain\n",
      "Philippines\n",
      "France\n",
      "Mexico\n",
      "United States\n",
      "something went wrong with requests.get(url)\n",
      "Italy\n",
      "Russia\n",
      "India\n",
      "Germany\n",
      "846 00\n",
      "something went wrong with requests.get(url)\n",
      "Italy\n",
      "France\n",
      "65000\n",
      "something went wrong with requests.get(url)\n",
      "France\n",
      "83000\n",
      "something went wrong with requests.get(url)\n",
      "Greece\n",
      "Italy\n",
      "Austria\n",
      "United States\n",
      "something went wrong with requests.get(url)\n",
      "China\n",
      "Bulgaria\n",
      "Russia\n",
      "Germany\n",
      "Taiwan\n",
      "Georgia\n",
      "Greece\n",
      "Canada\n",
      "Italy\n",
      "Austria\n",
      "03\n",
      "something went wrong with requests.get(url)\n",
      "Greece\n",
      "Switzerland\n"
     ]
    }
   ],
   "source": [
    "countries=[]\n",
    "cities=[]\n",
    "descriptions=[]\n",
    "for i in range(len(data)):\n",
    "    cities.append(data.loc[i,\"city\"])\n",
    "    cou=get_country_name(data.loc[i,\"city\"])\n",
    "    countries.append(cou)\n",
    "    descriptions.append(get_description(cou,data.loc[i,\"city_LP\"]))"
   ]
  },
  {
   "cell_type": "code",
   "execution_count": 150,
   "id": "356ecbe1",
   "metadata": {},
   "outputs": [
    {
     "data": {
      "text/plain": [
       "76"
      ]
     },
     "execution_count": 150,
     "metadata": {},
     "output_type": "execute_result"
    }
   ],
   "source": [
    "len(descriptions)"
   ]
  },
  {
   "cell_type": "code",
   "execution_count": 168,
   "id": "de7096c1",
   "metadata": {
    "scrolled": true
   },
   "outputs": [],
   "source": [
    "df= pd.DataFrame(cities,columns=[\"city\"])\n",
    "df[\"country\"]=countries\n",
    "df[\"description\"]=descriptions"
   ]
  },
  {
   "cell_type": "code",
   "execution_count": 170,
   "id": "2a7fa815",
   "metadata": {
    "scrolled": true
   },
   "outputs": [
    {
     "name": "stdout",
     "output_type": "stream",
     "text": [
      "         city      country                                        description\n",
      "0     Antalya       Turkey  Once seen simply as the gateway to the Turkish...\n",
      "1      Athens       Greece  With equal measures of grunge and grace, Athen...\n",
      "2   Ayia-napa       Cyprus  Endless blue-sky days and a coastline riddled ...\n",
      "3     Bangkok     Thailand  Same same, but different. This Thailish T-shir...\n",
      "4   Barcelona        Spain  Barcelona is an enchanting seaside city with b...\n",
      "..        ...          ...                                                ...\n",
      "71     Venice        Italy  Imagine the audacity of building a city of mar...\n",
      "72     Vienna      Austria  Baroque streetscapes and imperial palaces set ...\n",
      "73     Warsaw           03                                               None\n",
      "74  Zakynthos       Greece  Zakynthos, also known by its Italian name Zant...\n",
      "75     Zurich  Switzerland  Culturally vibrant, efficiently run and attrac...\n",
      "\n",
      "[76 rows x 3 columns]\n"
     ]
    }
   ],
   "source": [
    "df"
   ]
  },
  {
   "cell_type": "code",
   "execution_count": 177,
   "id": "9893f01a",
   "metadata": {
    "scrolled": false
   },
   "outputs": [],
   "source": [
    "file_name=path+\"/LP_destinations.csv\"\n",
    "df.to_csv(file_name,index=False,header=True)"
   ]
  },
  {
   "cell_type": "code",
   "execution_count": null,
   "id": "4473d253",
   "metadata": {},
   "outputs": [],
   "source": []
  },
  {
   "cell_type": "code",
   "execution_count": null,
   "id": "072e53a4",
   "metadata": {},
   "outputs": [],
   "source": []
  }
 ],
 "metadata": {
  "kernelspec": {
   "display_name": "Python 3 (ipykernel)",
   "language": "python",
   "name": "python3"
  },
  "language_info": {
   "codemirror_mode": {
    "name": "ipython",
    "version": 3
   },
   "file_extension": ".py",
   "mimetype": "text/x-python",
   "name": "python",
   "nbconvert_exporter": "python",
   "pygments_lexer": "ipython3",
   "version": "3.9.7"
  }
 },
 "nbformat": 4,
 "nbformat_minor": 5
}
